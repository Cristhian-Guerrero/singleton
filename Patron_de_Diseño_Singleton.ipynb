{
  "nbformat": 4,
  "nbformat_minor": 0,
  "metadata": {
    "colab": {
      "provenance": [],
      "collapsed_sections": [],
      "authorship_tag": "ABX9TyNsSBisn+UzN4gE7T5XV/uD",
      "include_colab_link": true
    },
    "kernelspec": {
      "name": "python3",
      "display_name": "Python 3"
    },
    "language_info": {
      "name": "python"
    }
  },
  "cells": [
    {
      "cell_type": "markdown",
      "metadata": {
        "id": "view-in-github",
        "colab_type": "text"
      },
      "source": [
        "<a href=\"https://colab.research.google.com/github/Cristhian-Guerrero/singleton/blob/Master/Patron_de_Dise%C3%B1o_Singleton.ipynb\" target=\"_parent\"><img src=\"https://colab.research.google.com/assets/colab-badge.svg\" alt=\"Open In Colab\"/></a>"
      ]
    },
    {
      "cell_type": "markdown",
      "source": [
        "## **Método 1: patrón de diseño Monostate/Borg Singleton**\n"
      ],
      "metadata": {
        "id": "FJjZj_g0WLk4"
      }
    },
    {
      "cell_type": "code",
      "execution_count": 10,
      "metadata": {
        "id": "WHrg7HmsbQ8t",
        "colab": {
          "base_uri": "https://localhost:8080/"
        },
        "outputId": "d0e443f6-30a4-4d90-d107-bc581f59798b"
      },
      "outputs": [
        {
          "output_type": "stream",
          "name": "stdout",
          "text": [
            "Algorithms\n",
            "Algorithms\n",
            "Geeks\n",
            "Geeks\n",
            "Geeks\n"
          ]
        }
      ],
      "source": [
        "class Borg:\n",
        "# estado compartido por cada instancia\n",
        "  \n",
        "  __shared_state = dict()\n",
        "\n",
        "  def __init__(self):\n",
        "    self.__dict__ = self.__shared_state\n",
        "    self.state = 'GeeksforGeeks'\n",
        "  \n",
        "  def __str__(self):\n",
        "    return self.state\n",
        "\n",
        "# metodo principal\n",
        "if __name__ == \"__main__\":\n",
        "  person1 = Borg()    # objecto de clase Borg\n",
        "  person2 = Borg()    # objecto de clase Borg\n",
        "  person3 = Borg()    # objecto de clase Borg\n",
        "  \n",
        "  person1.state = 'DataStructures'  # person1 cambia el estado\n",
        "  person2.state = 'Algorithms'\n",
        "\n",
        "  print(person1)    # salida --> Algorithms\n",
        "  print(person2)    # salida --> Algorithms\n",
        "  \n",
        "  person3.state = 'Geeks'   # person3 cambia el\n",
        "                            # estado compartido\n",
        "\n",
        "  print(person1)    # salida --> Geeks\n",
        "  print(person2)    # salida --> Geeks\n",
        "  print(person3)    # salida --> Geeks                 \n",
        "  \n",
        "\n",
        "                      \n",
        "                      "
      ]
    },
    {
      "cell_type": "markdown",
      "source": [
        "## **Patrón de diseño Singleton de bloqueo de doble verificación**"
      ],
      "metadata": {
        "id": "DLPq14rn3HsB"
      }
    },
    {
      "cell_type": "code",
      "source": [
        "# Patrón singleton de bloqueo de doble verificación\n",
        "import threading\n",
        "\n",
        "class SingletonDoubleChecked(object):\n",
        "# recursos compartidos por todos y cada uno\n",
        "# instancia\n",
        "  __singleton_lock = threading.Lock()\n",
        "  __singleton_instance = None\n",
        "# definir el método de clase  classmethod\n",
        "\n",
        "  @classmethod  \n",
        "  def instance(cls):\n",
        "  # verifique la instancia singleton\n",
        "    if not cls.__singleton_instance:\n",
        "      with cls.__singleton_lock:\n",
        "        if not cls.__singleton_instance:\n",
        "         cls.__singleton_instance = cls()\n",
        "   # devolver la instancia singleton\n",
        "    return cls.__singleton_instance\n",
        "                      \n",
        "#Metodo principal\n",
        "if __name__ == '__main__':\n",
        "# crear clase X\n",
        "  class X(SingletonDoubleChecked):\n",
        "    pass\n",
        "# crear clase Y\n",
        "  class Y(SingletonDoubleChecked):\n",
        "    pass\n",
        "                      \n",
        "A1, A2 = X.instance(), X.instance()\n",
        "B1, B2 = Y.instance(), Y.instance()\n",
        "assert A1 is not B1\n",
        "assert A1 is A2\n",
        "assert B1 is B2\n",
        "print('A1 : ', A1)\n",
        "print('A2 : ', A2)\n",
        "print('B1 : ', B1)\n",
        "print('B2 : ', B2)\n",
        "                      "
      ],
      "metadata": {
        "colab": {
          "base_uri": "https://localhost:8080/"
        },
        "id": "ExS0gr8x3NOr",
        "outputId": "82f19acf-3391-424f-e18c-0bc79f929337"
      },
      "execution_count": 11,
      "outputs": [
        {
          "output_type": "stream",
          "name": "stdout",
          "text": [
            "A1 :  <__main__.X object at 0x7f2aaa1a92d0>\n",
            "A2 :  <__main__.X object at 0x7f2aaa1a92d0>\n",
            "B1 :  <__main__.Y object at 0x7f2aaa1a9390>\n",
            "B2 :  <__main__.Y object at 0x7f2aaa1a9390>\n"
          ]
        }
      ]
    },
    {
      "cell_type": "code",
      "source": [
        "#esto es lo que hace java \n",
        "class User(object):\n",
        "  #Sobre escribimos el metodo New\n",
        "  __instance= None\n",
        "\n",
        "  def __new__(cls):               #new es un metodo estatico por eso no se colaca self \n",
        "    if User.__instance is None:   #se crea una sola instancia para nuestra clase \n",
        "                                  #con esto la condicion nunca mas se cumpliria  \n",
        "      print(\"Nueva instancia\")  \n",
        "      User.__instance   = object.__new__ #se crea primera y unica instancia \n",
        "    \n",
        "    return User.__instance        #retornamos la que ya existe\n",
        "\n",
        "if __name__=='__main__':\n",
        "\n",
        "  user1 = User() # se esta generando dos objetos\n",
        "  user2 = User()\n",
        "\n",
        "  print(user1 is user2) # Nos apoyamos de la palabra reservada 'is' para comprar los objetos\n",
        "                        # se compara los dos ojbetos\n",
        "  #si se quiere seguir utilizando la implementacion de java se debe hacer mas condiciones\n",
        "  #Cuando se desee enviar mas de un argumento\n",
        "  #ejemplo\n",
        "  '''def __init__ (self, username):\n",
        "          self.username = username\n",
        "  if __name__=='__main__':\n",
        "\n",
        "  user1 = User(\"Cristhian\") \n",
        "  user2 = User(\"Ingenieria\") '''\n",
        "\n",
        "  #aqui se deben agregar mas condicionales para poder seguir utilizando la implementacion de singlenton\n",
        "  #de la forma de java \n",
        "\n",
        "  \n",
        "   "
      ],
      "metadata": {
        "colab": {
          "base_uri": "https://localhost:8080/"
        },
        "id": "5PtlOLSzXDzK",
        "outputId": "595f3dfb-0f8c-4aef-b8b2-fd14f043763f"
      },
      "execution_count": 6,
      "outputs": [
        {
          "output_type": "stream",
          "name": "stdout",
          "text": [
            "Nueva instancia\n",
            "True\n"
          ]
        }
      ]
    },
    {
      "cell_type": "markdown",
      "source": [
        "## **Utilizando decoradores, esta es la forma Pytonica**"
      ],
      "metadata": {
        "id": "j49iuyPkhsNJ"
      }
    },
    {
      "cell_type": "code",
      "source": [
        "#decorador para clases\n",
        "#se utilizan funciones anidadas\n",
        "\n",
        "def singleton(cls):\n",
        "  instances =  dict() #diiccionario\n",
        "  \n",
        "  def wrap(*args, **kwargs): #listado de argumentos como de diccionario de argumentos\n",
        "    if cls not in instances:#nuestra clase no se encuentra en el diccionario entonces se agrega con su instancia \n",
        "      instances [cls] = cls(*args, **kwargs) #generamos una isntancia de nuestra clase y el diccionario  \n",
        "    return instances[cls]  \n",
        "  return wrap\n",
        "\n",
        "@singleton #se decora na clase\n",
        "\n",
        "class User(object):\n",
        "  def __init__(self, username):\n",
        "    self.username= username\n",
        "if __name__ == '__main__':\n",
        "\n",
        "  user1 = User(\"Cisthian\") #se puede colocar la n cantidad de argumentos que uno desea\n",
        "  user2 = User(\"Ingeniero\") \n",
        "#Estamos decorando mediante una funcion valla \n",
        "  print (user1 is user2)"
      ],
      "metadata": {
        "colab": {
          "base_uri": "https://localhost:8080/"
        },
        "id": "s2SQrUkghx1l",
        "outputId": "3b80f286-e95d-43e9-82b6-b10e460741f1"
      },
      "execution_count": 7,
      "outputs": [
        {
          "output_type": "stream",
          "name": "stdout",
          "text": [
            "True\n"
          ]
        }
      ]
    }
  ]
}